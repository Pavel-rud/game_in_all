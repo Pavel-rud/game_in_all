{
  "nbformat": 4,
  "nbformat_minor": 0,
  "metadata": {
    "colab": {
      "name": "Pandas_lab3.ipynb",
      "provenance": [],
      "collapsed_sections": []
    },
    "kernelspec": {
      "name": "python3",
      "display_name": "Python 3"
    }
  },
  "cells": [
    {
      "cell_type": "markdown",
      "metadata": {
        "id": "nC_72AL6CZgO"
      },
      "source": [
        "В этой лабораторной нужно будет  обработать данные опроса студентов математического курса средней школы в Португалии (возраст - от 15 до 22 лет).  Целевой переменной является итоговая оценка студента за курс.\n"
      ]
    },
    {
      "cell_type": "code",
      "metadata": {
        "id": "Lo7SL6yOBj57"
      },
      "source": [
        "import matplotlib.pyplot as plt\n",
        "import pandas as pd\n",
        "\n",
        "# функция, позволяющая выводить графики прямо в ноутбук\n",
        "%matplotlib inline\n",
        "\n",
        "# Загрузим данные и посмотрим на них.\n",
        "# .csv - текстовый файл для представления табличных данных, разделенных каким-то символом. В данном случае - запятой\n",
        "data = pd.read_csv('stud_Portug.csv', delimiter=',')\n",
        "\n",
        "# функция .head(n) выводит первые n строк таблицы (по умолчанию n=5)\n",
        "data.head()"
      ],
      "execution_count": null,
      "outputs": []
    },
    {
      "cell_type": "code",
      "metadata": {
        "id": "OpJWD_xvDCNU"
      },
      "source": [
        "#Аналогично, можно смотреть не на верхние строки таблицы, а на нижние:\n",
        "data.tail()"
      ],
      "execution_count": null,
      "outputs": []
    },
    {
      "cell_type": "markdown",
      "metadata": {
        "id": "zAAKgxDADKvG"
      },
      "source": [
        "В данном случае объектами являются студенты, признаками - различные их характеристики. Найдем число и тех, и других:"
      ]
    },
    {
      "cell_type": "code",
      "metadata": {
        "id": "vrgqeWT1DMJO"
      },
      "source": [
        "data.shape"
      ],
      "execution_count": null,
      "outputs": []
    },
    {
      "cell_type": "markdown",
      "metadata": {
        "id": "pIxGc5TrDPRY"
      },
      "source": [
        "Итак, всего объектов 395, а признаков - 32 (учитываем, что один из столбцов - это целевая переменная). Все признаки имеют разную природу. Вот их более подробная расшифровка:\n",
        "\n",
        " - school - тип школы (\"GP\" - Gabriel Pereira или \"MS\" - Mousinho da Silveira)\n",
        " - sex - пол (\"F\" - female или \"M\" - male)\n",
        " - age - возраст (от 15 до 22)\n",
        " - address - откуда студент (\"U\" - urban или \"R\" - rural)\n",
        " - famsize - размер семьи (\"LE3\" - меньше или равно 3 или \"GT3\" - больше 3)\n",
        " - Pstatus - в каких отношениях родители (\"T\" - живут вместе \"A\" - раздельно)\n",
        " - Medu - образование матери (0 - никакого,  1 - начальное образование (4 класса), 2 – от 5 до 9 классов, 3 – среднеспециальное или 4 – высшее)\n",
        " - Fedu - образование отца (0 - никакого,  1 - начальное образование (4 класса), 2 – от 5 до 9 классов, 3 – среднеспециальное или 4 – высшее)\n",
        " - Mjob - работа матери (\"teacher\", \"health\" care related, civil \"services\" (e.g. administrative or police), \"at_home\" or \"other\")\n",
        " - Fjob - работа отца (\"teacher\", \"health\" care related, civil \"services\" (e.g. administrative or police), \"at_home\" or \"other\")\n",
        " - reason - причина выбора школы (близко к дому — \"home\", репутация школы — \"reputation\", предпочтение некоторым предметам - \"course\" или \"other\")\n",
        " - guardian - опекун (\"mother\", \"father\" или \"other\")\n",
        " - traveltime - время от дома до школы (1 - меньше 15 мин., 2 - 15 до 30 мин., 3 - 30 мин. до 1 часа, или 4 - больше 1 часа)\n",
        " - studytime - количество часов обучения в неделю (1 - меньше 2 часов, 2 - от 2 до 5 часов, 3 - от 5 до 10 часов, или 4 - больше 10 часов)\n",
        " - failures - количество ранее не сданных предметов (n if 1 <= n < 3, else 4)\n",
        " - schoolsup - дополнительные занятия (yes or no)\n",
        " - famsup - помощь от семьи при выполнении заданий (yes or no)\n",
        " - paid - дополнительные платные занятия (yes or no)\n",
        " - activities - внеклассная деятельность (yes or no)\n",
        " - nursery - посещал детский сад (yes or no)\n",
        " - higher - желание высшего образования (yes or no)\n",
        " - internet - домашний интернет (yes or no)\n",
        " - romantic - состоит в романтических отношениях (yes or no)\n",
        " - famrel - насколько хороши отношения в семье (от 1 - очень плохие до 5 - превосходные)\n",
        " - freetime - наличие свободного времени после школы (от 1 - очень мало до 5 - очень много)\n",
        " - goout - гуляет с друзьями (от 1 - редко до 5 - очень часто)\n",
        " - Dalc - употребление алкоголя в будние дни (от 1 - очень редко до 5 - очень часто)\n",
        " - Walc - употребление алкоголя в выходные (от 1 - очень редко до 5 - очень часто)\n",
        " - health - текущее состояние здоровья (от 1 - очень плохое до 5 - очень хорошее)\n",
        " - absences - количество школьных пропусков (от 0 до 93)\n",
        " - G1 - оценка за первый семестр (от 0 до 20)\n",
        " - G2 - оценка за второй семестр (от 0 до 20)\n",
        " - G3 - итоговая оценка (от 0 до 20)"
      ]
    },
    {
      "cell_type": "code",
      "metadata": {
        "id": "_17EkuhBDeIo"
      },
      "source": [
        "#вывод всех колонок\n",
        "data.columns"
      ],
      "execution_count": null,
      "outputs": []
    },
    {
      "cell_type": "markdown",
      "metadata": {
        "id": "IiheNPiSFFmW"
      },
      "source": [
        "Как получить таблицу без последней колонки?"
      ]
    },
    {
      "cell_type": "code",
      "metadata": {
        "id": "6cEoJzJxDga4"
      },
      "source": [
        "#Вариант №1\n",
        "data[data.columns[:-1]].head()\n",
        "\n",
        "#Предложите свой вариант:\n",
        "#######*****ВАШ КОД*****#################\n"
      ],
      "execution_count": null,
      "outputs": []
    },
    {
      "cell_type": "markdown",
      "metadata": {
        "id": "VivwtrSJD3zG"
      },
      "source": [
        "Проверим, есть ли в данных пропуски:\n"
      ]
    },
    {
      "cell_type": "code",
      "metadata": {
        "id": "b3HcHDHMD6Ct"
      },
      "source": [
        "data.isnull().any().any()"
      ],
      "execution_count": null,
      "outputs": []
    },
    {
      "cell_type": "markdown",
      "metadata": {
        "id": "xGjDdHuGEBic"
      },
      "source": [
        "Выведите статистику по значениям признаков:\n"
      ]
    },
    {
      "cell_type": "code",
      "metadata": {
        "id": "3al4xKb9EFh_"
      },
      "source": [
        "#######*****ВАШ КОД*****#################\n"
      ],
      "execution_count": 7,
      "outputs": []
    },
    {
      "cell_type": "markdown",
      "metadata": {
        "id": "OrMTU8l-Jxr2"
      },
      "source": [
        "Какая причина выбора школы была самой частой? В качестве ответа приведите соответствующее значение признака."
      ]
    },
    {
      "cell_type": "code",
      "metadata": {
        "id": "6ySrYL0uJy4X"
      },
      "source": [
        "#######*****ВАШ КОД*****#################\n"
      ],
      "execution_count": null,
      "outputs": []
    },
    {
      "cell_type": "markdown",
      "metadata": {
        "id": "7PbaGv-tEQdF"
      },
      "source": [
        "Какие значения принимает признак guardian?\n",
        "\n"
      ]
    },
    {
      "cell_type": "code",
      "metadata": {
        "id": "LY_3jVpXES0Z"
      },
      "source": [
        "#######*****ВАШ КОД*****#################\n"
      ],
      "execution_count": null,
      "outputs": []
    },
    {
      "cell_type": "markdown",
      "metadata": {
        "id": "s1y2Iv3dEU34"
      },
      "source": [
        "Подсчитайте количество учащихся с различными типами признака guardian"
      ]
    },
    {
      "cell_type": "code",
      "metadata": {
        "id": "YB7DRljlEjgV"
      },
      "source": [
        "#######*****ВАШ КОД*****#################\n"
      ],
      "execution_count": null,
      "outputs": []
    },
    {
      "cell_type": "markdown",
      "metadata": {
        "id": "AwXr4Vy0EloU"
      },
      "source": [
        "Выделите только тех студентов, у которых опекуном является мать и которая работает учителем или на дому. Подсчитайте общее количество таких студентов."
      ]
    },
    {
      "cell_type": "code",
      "metadata": {
        "id": "ClaIrRWGFTIx"
      },
      "source": [
        "#######*****ВАШ КОД*****#################\n"
      ],
      "execution_count": null,
      "outputs": []
    },
    {
      "cell_type": "markdown",
      "metadata": {
        "id": "M51q9WHuJ5Ld"
      },
      "source": [
        "Найдите количество студентов, у родителей которых нет никакого образования.\n"
      ]
    },
    {
      "cell_type": "code",
      "metadata": {
        "id": "MdXpSweeJ6tg"
      },
      "source": [
        "#######*****ВАШ КОД*****#################\n"
      ],
      "execution_count": null,
      "outputs": []
    },
    {
      "cell_type": "markdown",
      "metadata": {
        "id": "Kyan4aFBFWAI"
      },
      "source": [
        "Работа с признаками - очень важный этап решения задачи. Помимо имеющихся признаков, можно создавать новые, которые могут оказаться полезными для построения качественного алгоритма. Например, внимательно изучив описания признаков, связанных с алкоголем, создадим признак \"alc\", который будет отражать общее употребление алкоголя в течение недели по формуле ниже:\n",
        "\n",
        "$$\n",
        "alc = \\frac{5\\times Dalc + 2 \\times Walc}{7}\n",
        "$$"
      ]
    },
    {
      "cell_type": "code",
      "metadata": {
        "id": "jslZi3NaF8p2"
      },
      "source": [
        "#######*****ВАШ КОД*****#################\n",
        "##Реализуйте вышеуказанную формулу"
      ],
      "execution_count": null,
      "outputs": []
    },
    {
      "cell_type": "code",
      "metadata": {
        "id": "T6g2uErxGFpz"
      },
      "source": [
        "data[['Walc', 'Dalc', 'alc']].head(10)"
      ],
      "execution_count": null,
      "outputs": []
    },
    {
      "cell_type": "markdown",
      "metadata": {
        "id": "OlTV9ftrGaOL"
      },
      "source": [
        "Проанализируем взаимосвязь употребления алкоголя и успехов в учебе детальнее. Посмотрим на распределение употребления алкоголя у студентов:\n",
        "\n"
      ]
    },
    {
      "cell_type": "code",
      "metadata": {
        "id": "46MayYOpGGmn"
      },
      "source": [
        "plt.figure(figsize=(10,7))\n",
        "data['alc'].hist()\n",
        "plt.xlabel('weekly alcohol consumption')\n",
        "plt.ylabel('number of students')\n",
        "plt.show()"
      ],
      "execution_count": null,
      "outputs": []
    },
    {
      "cell_type": "markdown",
      "metadata": {
        "id": "0jbUFqhdGfQM"
      },
      "source": [
        "Посмотрим на среднее употребление алкоголя:\n"
      ]
    },
    {
      "cell_type": "code",
      "metadata": {
        "id": "BzLFkrpBGi1P"
      },
      "source": [
        "#######*****ВАШ КОД*****#################\n"
      ],
      "execution_count": null,
      "outputs": []
    },
    {
      "cell_type": "markdown",
      "metadata": {
        "id": "q9MkPQ9SGmd0"
      },
      "source": [
        "Из гистограммы и полученного значения  сделайте вывод, как часто в среднем студенты употребляют алкоголь?\n",
        "\n",
        "ОТВЕТ:"
      ]
    },
    {
      "cell_type": "markdown",
      "metadata": {
        "id": "Xt0D053GG-L5"
      },
      "source": [
        "Изучите взаимосвязь количества пропусков и успехов в учебе. Постройте распределение количества пропусков у студентов:"
      ]
    },
    {
      "cell_type": "code",
      "metadata": {
        "id": "hyQ53UqzHGIX"
      },
      "source": [
        "plt.figure(figsize=(10,7))\n",
        "plt.title('Absences distribution')\n",
        "#######*****ВАШ КОД*****#################\n"
      ],
      "execution_count": null,
      "outputs": []
    },
    {
      "cell_type": "markdown",
      "metadata": {
        "id": "Zgc3c0XyHMGx"
      },
      "source": [
        "Посчитайте среднее количество пропусков:"
      ]
    },
    {
      "cell_type": "code",
      "metadata": {
        "id": "asrWb5FQIDjL"
      },
      "source": [
        "#######*****ВАШ КОД*****#################\n"
      ],
      "execution_count": null,
      "outputs": []
    },
    {
      "cell_type": "markdown",
      "metadata": {
        "id": "I2d6WjeJIE0R"
      },
      "source": [
        "Из гистограммы и полученного значения сделайте вывод, как часто в среднем студенты пропускают занятия?\n",
        "\n",
        "ОТВЕТ:\n",
        "\n"
      ]
    },
    {
      "cell_type": "markdown",
      "metadata": {
        "id": "YHW7bM78Ikfp"
      },
      "source": [
        "Теперь посмотрим на влияние количества пропусков на итоговую оценку. Для этого разделите студентов на две части: тех, у кого количество пропусков меньше среднего и всех остальных, подсчитайте количество тех и других."
      ]
    },
    {
      "cell_type": "code",
      "metadata": {
        "id": "ZDZFFqB1IrB0"
      },
      "source": [
        "#######*****ВАШ КОД*****#################\n"
      ],
      "execution_count": null,
      "outputs": []
    },
    {
      "cell_type": "markdown",
      "metadata": {
        "id": "Xo5jiFXNI_2E"
      },
      "source": [
        "Посчитайте среднее значение целевой переменной для каждой группы.\n"
      ]
    },
    {
      "cell_type": "code",
      "metadata": {
        "id": "zVx6j9e1I-PE"
      },
      "source": [
        "#######*****ВАШ КОД*****#################\n"
      ],
      "execution_count": null,
      "outputs": []
    },
    {
      "cell_type": "markdown",
      "metadata": {
        "id": "hty02XZ9KHpk"
      },
      "source": [
        "Найдите разность между средними итоговыми оценками студентов, состоящих и не состоящих в романтических отношениях. "
      ]
    },
    {
      "cell_type": "code",
      "metadata": {
        "id": "co1r1_GrKLwH"
      },
      "source": [
        "#######*****ВАШ КОД*****#################\n"
      ],
      "execution_count": null,
      "outputs": []
    },
    {
      "cell_type": "markdown",
      "metadata": {
        "id": "v66uHNkBJJvj"
      },
      "source": [
        "Также данные можно исследовать с помощью группировки и агрегирования. Например, исследуем закономерности, связанные с разными школами. Сгруппируем объекты по школам:"
      ]
    },
    {
      "cell_type": "code",
      "metadata": {
        "id": "s2sAgO0GJMdk"
      },
      "source": [
        "data_by_school = data.groupby('school')\n",
        "data_by_school.describe()"
      ],
      "execution_count": null,
      "outputs": []
    },
    {
      "cell_type": "markdown",
      "metadata": {
        "id": "dJQdBZksJPrN"
      },
      "source": [
        "Теперь посмотрим на среднее значение признаков для каждой школы:"
      ]
    },
    {
      "cell_type": "code",
      "metadata": {
        "id": "Y2tL36jZJS0g"
      },
      "source": [
        "data_by_school.mean()"
      ],
      "execution_count": null,
      "outputs": []
    },
    {
      "cell_type": "markdown",
      "metadata": {
        "id": "11AA6yVTJVpl"
      },
      "source": [
        "Можно заметить, например, что в среднем до школы Mousinho da Silveira студентам нужно добираться дольше, чем до Gabriel Pereira. Интересно, что, несмотря на это, в среднем количество пропусков у них меньше.\n",
        "\n",
        "\n",
        "\n"
      ]
    },
    {
      "cell_type": "markdown",
      "metadata": {
        "id": "wEJ9KWA6KUEi"
      },
      "source": [
        "Сколько занятий пропустило большинство студентов с самым частым значением наличия внеклассных активностей?\n",
        "\n",
        "*Примечание. В данном контексте под \"большинством\" подразумеваются студенты, имеющее самое частое значение пропусков. То есть в данном задании необходимо:*\n",
        "\n",
        "\n",
        "* *Определить самое частое значение наличия внеклассных активностей (да или нет).*\n",
        "* *Для группы студентов, соответствующей этому значению, рассмотреть значения признака «число пропусков».*\n",
        "* *Для каждого значения числа пропусков посчитать, сколько студентов ему соответствует.*\n",
        "* *Выбрать значение числа пропусков с наибольшим числом студентов.*"
      ]
    },
    {
      "cell_type": "code",
      "metadata": {
        "id": "C0cSHWDHKVPP"
      },
      "source": [
        "#######*****ВАШ КОД*****#################\n"
      ],
      "execution_count": null,
      "outputs": []
    }
  ]
}