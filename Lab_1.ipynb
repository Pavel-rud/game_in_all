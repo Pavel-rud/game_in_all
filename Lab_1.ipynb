{
  "nbformat": 4,
  "nbformat_minor": 0,
  "metadata": {
    "kernelspec": {
      "display_name": "Python 3",
      "language": "python",
      "name": "python3"
    },
    "language_info": {
      "codemirror_mode": {
        "name": "ipython",
        "version": 3
      },
      "file_extension": ".py",
      "mimetype": "text/x-python",
      "name": "python",
      "nbconvert_exporter": "python",
      "pygments_lexer": "ipython3",
      "version": "3.6.3"
    },
    "colab": {
      "name": "lab_1 (1).ipynb",
      "provenance": [],
      "collapsed_sections": [],
      "toc_visible": true
    }
  },
  "cells": [
    {
      "cell_type": "code",
      "metadata": {
        "id": "7wssaiV3-Q7m",
        "colab_type": "code",
        "colab": {}
      },
      "source": [
        "import numpy as np"
      ],
      "execution_count": null,
      "outputs": []
    },
    {
      "cell_type": "markdown",
      "metadata": {
        "id": "zO7RlBFT-Q71",
        "colab_type": "text"
      },
      "source": [
        "# Лабораторная работа №1 \"Библиотека numpy\"\n",
        "В лабораторной работе все пункты необходимо выполнить с помощью numpy, без использования циклов/map/и т.д.! \n",
        "\n",
        "Задание выполняется __самостоятельно__. Категорически запрещено пользоваться чужими решениями заданий. \n",
        "\n"
      ]
    },
    {
      "cell_type": "markdown",
      "metadata": {
        "id": "KCBkIbWk-yCT",
        "colab_type": "text"
      },
      "source": [
        "### Задание \n",
        "\n",
        "В конце каждого семестра каждый семинарист сталкивается с необходимостью выставить студентам накопленную в семестре оценку. Часто семинаристы делают это с помощью Excel или GoogleSheets, но поверьте, с этим возникают проблемы. В задании вам надо помочь семинаристу некоторого курса выполнить эту непростую работу с помощью numpy :)\n",
        "\n",
        "Выполните ячейку ниже, чтобы загрузить данные и визуально проверить корректность их считывания.\n",
        "\n",
        "По строкам - студенты, по столбцам - их оценки. В курсе семинарист провел три проверочных (первые три колонки), выдал три домашних работы (следующие три колонки), кроме того, у студентов есть оценка за коллоквиум (последняя колонка)."
      ]
    },
    {
      "cell_type": "code",
      "metadata": {
        "id": "1kc-KD51-Q73",
        "colab_type": "code",
        "colab": {}
      },
      "source": [
        "marks = np.loadtxt(\"data_lab1.txt\")"
      ],
      "execution_count": null,
      "outputs": []
    },
    {
      "cell_type": "code",
      "metadata": {
        "id": "P9bFvoth-Q8B",
        "colab_type": "code",
        "colab": {
          "base_uri": "https://localhost:8080/",
          "height": 68
        },
        "outputId": "695597ed-d3b6-47a6-e558-459a09e1f993"
      },
      "source": [
        "marks[:3]"
      ],
      "execution_count": null,
      "outputs": [
        {
          "output_type": "execute_result",
          "data": {
            "text/plain": [
              "array([[ 7. ,  8. , 10. ,  0. ,  0. ,  2.1,  1.5],\n",
              "       [ 0. ,  6. ,  4.4,  4. ,  0. ,  5. ,  4.3],\n",
              "       [ 3. ,  7. ,  8.7,  7.6,  7. ,  9.7, 10. ]])"
            ]
          },
          "metadata": {
            "tags": []
          },
          "execution_count": 9
        }
      ]
    },
    {
      "cell_type": "markdown",
      "metadata": {
        "id": "DfYIx3VP-Q8L",
        "colab_type": "text"
      },
      "source": [
        "### Число студентов \n",
        "Сколько студентов в группе семинариста?"
      ]
    },
    {
      "cell_type": "code",
      "metadata": {
        "id": "CGXLQDdO-Q8N",
        "colab_type": "code",
        "colab": {}
      },
      "source": [
        "# Записать ответ в переменную num_studs\n",
        "num_studs = "
      ],
      "execution_count": null,
      "outputs": []
    },
    {
      "cell_type": "code",
      "metadata": {
        "id": "xKE17cUF-Q8X",
        "colab_type": "code",
        "colab": {}
      },
      "source": [
        "print(num_studs)"
      ],
      "execution_count": null,
      "outputs": []
    },
    {
      "cell_type": "markdown",
      "metadata": {
        "id": "7XnMX-cL-Q8g",
        "colab_type": "text"
      },
      "source": [
        "### Очень сложная проверочная, или просто добрый семинарист \n",
        "Семинарист помнит, что первая проверочная получилась очень сложной, и максимальный балл в группе был далеко не 10. Поэтому он решил перенормировать баллы за эту проверочную на максимум по группе (поделить на максимум и умножить на 10) - чтобы у студента с максимальной оценкой получилось 10, а у остальных - просто оценка больше."
      ]
    },
    {
      "cell_type": "markdown",
      "metadata": {
        "id": "_I4Tuozl-Q8j",
        "colab_type": "text"
      },
      "source": [
        "Каков максимальный балл за первую проверочную?"
      ]
    },
    {
      "cell_type": "code",
      "metadata": {
        "id": "HqcPktcZ-Q8k",
        "colab_type": "code",
        "colab": {}
      },
      "source": [
        "# Записать ответ в переменную max_mark\n",
        "max_mark = "
      ],
      "execution_count": null,
      "outputs": []
    },
    {
      "cell_type": "code",
      "metadata": {
        "id": "pP4iiRKh-Q8t",
        "colab_type": "code",
        "colab": {}
      },
      "source": [
        "print(max_mark)"
      ],
      "execution_count": null,
      "outputs": []
    },
    {
      "cell_type": "markdown",
      "metadata": {
        "id": "5-XxHkNh-Q82",
        "colab_type": "text"
      },
      "source": [
        "Разделите первый столбец на max_mark (для этого надо выделить столбец, поставить после соответствующего выражения знак = и присвоить новое значение столбца)"
      ]
    },
    {
      "cell_type": "code",
      "metadata": {
        "id": "uooBKWEH-Q84",
        "colab_type": "code",
        "colab": {}
      },
      "source": [
        ""
      ],
      "execution_count": null,
      "outputs": []
    },
    {
      "cell_type": "code",
      "metadata": {
        "id": "v_f6syOv-Q8-",
        "colab_type": "code",
        "colab": {}
      },
      "source": [
        ""
      ],
      "execution_count": null,
      "outputs": []
    },
    {
      "cell_type": "code",
      "metadata": {
        "id": "MY6q1Jjt-Q9H",
        "colab_type": "code",
        "colab": {}
      },
      "source": [
        ""
      ],
      "execution_count": null,
      "outputs": []
    },
    {
      "cell_type": "markdown",
      "metadata": {
        "id": "24U5eYIA-Q9O",
        "colab_type": "text"
      },
      "source": [
        "### Подсчет накопленной оценки \n",
        "Для вычисления накопленной надо посчитать средние оценки за проверочные для каждого студента и средние за домашние работы (может пригодиться np.mean). Накопленная оценка есть 0.3\\*Проверочные + 0.4\\*Домашние + 0.3\\*Коллоквиум. Вычислите накопленные оценки и добавьте их в последний столбец матрицы (нужно добавить еще один новый столбец)."
      ]
    },
    {
      "cell_type": "code",
      "metadata": {
        "id": "IjuaufsQ-Q9Q",
        "colab_type": "code",
        "colab": {}
      },
      "source": [
        "# Веса следует брать из переменной weights, а не вписывать вручную\n",
        "weights = [0.3, 0.4, 0.3]"
      ],
      "execution_count": null,
      "outputs": []
    },
    {
      "cell_type": "code",
      "metadata": {
        "id": "QgZAIQsG-Q9Y",
        "colab_type": "code",
        "colab": {}
      },
      "source": [
        ""
      ],
      "execution_count": null,
      "outputs": []
    },
    {
      "cell_type": "code",
      "metadata": {
        "id": "58lGMvU7-Q9j",
        "colab_type": "code",
        "colab": {}
      },
      "source": [
        ""
      ],
      "execution_count": null,
      "outputs": []
    },
    {
      "cell_type": "code",
      "metadata": {
        "id": "dc_au-dM-Q9s",
        "colab_type": "code",
        "colab": {}
      },
      "source": [
        ""
      ],
      "execution_count": null,
      "outputs": []
    },
    {
      "cell_type": "markdown",
      "metadata": {
        "id": "1hlZHzpY-Q90",
        "colab_type": "text"
      },
      "source": [
        "### Студенты, которых, вероятно, отчислят "
      ]
    },
    {
      "cell_type": "markdown",
      "metadata": {
        "id": "WCB62rno-Q91",
        "colab_type": "text"
      },
      "source": [
        "Сколько в группе студентов с накопленной оценкой 0? Вам может понадобиться тот факт, что применение np.sum к бинарному вектору дает число значений True в нем, например:"
      ]
    },
    {
      "cell_type": "code",
      "metadata": {
        "id": "oNhE8PX0-Q92",
        "colab_type": "code",
        "colab": {},
        "outputId": "d037e143-4af0-4709-e831-db8cc81d3c1c"
      },
      "source": [
        "np.sum([True, False, True]) # 2 значения True"
      ],
      "execution_count": null,
      "outputs": [
        {
          "output_type": "execute_result",
          "data": {
            "text/plain": [
              "2"
            ]
          },
          "metadata": {
            "tags": []
          },
          "execution_count": 35
        }
      ]
    },
    {
      "cell_type": "markdown",
      "metadata": {
        "collapsed": true,
        "id": "XWGxxyJv-Q99",
        "colab_type": "text"
      },
      "source": [
        "Также обратим внимание на операцию поэлементного сравнения, возвращающую массив из True и False:"
      ]
    },
    {
      "cell_type": "code",
      "metadata": {
        "id": "MG-6OG72-Q9_",
        "colab_type": "code",
        "colab": {},
        "outputId": "df4af899-c530-4498-dd5c-04115a83b14e"
      },
      "source": [
        "a = np.array([1, 2, 3])\n",
        "b = np.array([2, 3, 3])\n",
        "print(a == b)\n",
        "print(a > b)"
      ],
      "execution_count": null,
      "outputs": [
        {
          "output_type": "stream",
          "text": [
            "[False False  True]\n",
            "[False False False]\n"
          ],
          "name": "stdout"
        }
      ]
    },
    {
      "cell_type": "code",
      "metadata": {
        "id": "p6JaNqwk-Q-H",
        "colab_type": "code",
        "colab": {}
      },
      "source": [
        ""
      ],
      "execution_count": null,
      "outputs": []
    },
    {
      "cell_type": "code",
      "metadata": {
        "id": "lZvw_Q48-Q-M",
        "colab_type": "code",
        "colab": {}
      },
      "source": [
        ""
      ],
      "execution_count": null,
      "outputs": []
    },
    {
      "cell_type": "code",
      "metadata": {
        "id": "yaWjdC8R-Q-R",
        "colab_type": "code",
        "colab": {}
      },
      "source": [
        ""
      ],
      "execution_count": null,
      "outputs": []
    },
    {
      "cell_type": "markdown",
      "metadata": {
        "id": "ssNLE6qj-Q-Y",
        "colab_type": "text"
      },
      "source": [
        "### Студенты, которые получат автоматы\n",
        "Автомат получат студенты, у которых накопленная оценка больше 7. Добавьте еще один столбец - в нем стоит 1, если студент получает автомат, и 0 иначе."
      ]
    },
    {
      "cell_type": "code",
      "metadata": {
        "id": "BvjAdsGs-Q-Z",
        "colab_type": "code",
        "colab": {}
      },
      "source": [
        ""
      ],
      "execution_count": null,
      "outputs": []
    },
    {
      "cell_type": "code",
      "metadata": {
        "id": "ehQXsAck-Q-h",
        "colab_type": "code",
        "colab": {}
      },
      "source": [
        ""
      ],
      "execution_count": null,
      "outputs": []
    },
    {
      "cell_type": "code",
      "metadata": {
        "id": "oDe25Icc-Q-r",
        "colab_type": "code",
        "colab": {}
      },
      "source": [
        ""
      ],
      "execution_count": null,
      "outputs": []
    },
    {
      "cell_type": "markdown",
      "metadata": {
        "id": "8djk4Q57-Q-2",
        "colab_type": "text"
      },
      "source": [
        "### Студенты, которые будут освобождены от задач на экзамене\n",
        "Семинарист решил, что первая половина группы в рейтинге по накопленной оценке будет освобождена от решения задач на экзамене. Выделите этих студентов в отдельный массив. Для этого надо отсортировать строки массива (np.argsort) и взять первую половину."
      ]
    },
    {
      "cell_type": "code",
      "metadata": {
        "id": "FNic3Yxz-Q-5",
        "colab_type": "code",
        "colab": {}
      },
      "source": [
        ""
      ],
      "execution_count": null,
      "outputs": []
    },
    {
      "cell_type": "code",
      "metadata": {
        "id": "RO9rYiO2-Q-9",
        "colab_type": "code",
        "colab": {}
      },
      "source": [
        ""
      ],
      "execution_count": null,
      "outputs": []
    },
    {
      "cell_type": "code",
      "metadata": {
        "id": "WRaLf4bC-Q_C",
        "colab_type": "code",
        "colab": {}
      },
      "source": [
        ""
      ],
      "execution_count": null,
      "outputs": []
    },
    {
      "cell_type": "markdown",
      "metadata": {
        "id": "cD5Z4tJr-Q_K",
        "colab_type": "text"
      },
      "source": [
        "### Сложность заданий\n",
        "Наконец, семинарист хочет оценить сложность заданий, проверочных и коллоквиума по своей особой системе. Он присвоил каждому студенту вес (веса суммируются в 1) и хочет посчитать для каждого задания, проверочной и коллоквиума среднюю оценку с весами.\n",
        "Пример, что имеется в виду: если есть 4 студента с весами [0.1, 0.2, 0.3, 0.4] и оценками [3, 7, 9, 10], то средняя оценка за задание с весами получится "
      ]
    },
    {
      "cell_type": "code",
      "metadata": {
        "id": "J5YnCtEv-Q_K",
        "colab_type": "code",
        "colab": {},
        "outputId": "1f786684-957b-410e-8300-5242e4c83716"
      },
      "source": [
        "0.1 * 3 + 0.2 * 7 + 0.3 * 9 + 0.4 * 10 "
      ],
      "execution_count": null,
      "outputs": [
        {
          "output_type": "execute_result",
          "data": {
            "text/plain": [
              "8.4"
            ]
          },
          "metadata": {
            "tags": []
          },
          "execution_count": 37
        }
      ]
    },
    {
      "cell_type": "markdown",
      "metadata": {
        "id": "NRxx6WfI-Q_O",
        "colab_type": "text"
      },
      "source": [
        "Веса:"
      ]
    },
    {
      "cell_type": "code",
      "metadata": {
        "id": "iLMN3wYK-Q_P",
        "colab_type": "code",
        "colab": {}
      },
      "source": [
        "weights = np.array([1.]*7+[2.]*4+[3.]*7+[4.]*(marks.shape[0]-18))\n",
        "# разделите веса на их сумму, чтобы они суммировались к 1\n",
        "weights = "
      ],
      "execution_count": null,
      "outputs": []
    },
    {
      "cell_type": "markdown",
      "metadata": {
        "id": "5VplOpcP-Q_X",
        "colab_type": "text"
      },
      "source": [
        "Посчитайте указанным образом сложность каждого \"столбца\"."
      ]
    },
    {
      "cell_type": "code",
      "metadata": {
        "id": "opjr3LRx-Q_Z",
        "colab_type": "code",
        "colab": {}
      },
      "source": [
        ""
      ],
      "execution_count": null,
      "outputs": []
    },
    {
      "cell_type": "code",
      "metadata": {
        "id": "p4sI1eyc-Q_d",
        "colab_type": "code",
        "colab": {}
      },
      "source": [
        ""
      ],
      "execution_count": null,
      "outputs": []
    },
    {
      "cell_type": "code",
      "metadata": {
        "id": "Mli7_bMQ-Q_l",
        "colab_type": "code",
        "colab": {}
      },
      "source": [
        ""
      ],
      "execution_count": null,
      "outputs": []
    }
  ]
}