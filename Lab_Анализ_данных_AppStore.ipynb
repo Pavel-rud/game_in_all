{
  "nbformat": 4,
  "nbformat_minor": 0,
  "metadata": {
    "kernelspec": {
      "display_name": "Python 3",
      "language": "python",
      "name": "python3"
    },
    "language_info": {
      "codemirror_mode": {
        "name": "ipython",
        "version": 3
      },
      "file_extension": ".py",
      "mimetype": "text/x-python",
      "name": "python",
      "nbconvert_exporter": "python",
      "pygments_lexer": "ipython3",
      "version": "3.7.4"
    },
    "colab": {
      "name": "Lab_Анализ данных AppStore",
      "provenance": [],
      "collapsed_sections": []
    }
  },
  "cells": [
    {
      "cell_type": "markdown",
      "metadata": {
        "id": "pi56uQLasWlI"
      },
      "source": [
        "В настоящее время существует бесчисленное множество приложений, и следующий набор данных содержит перечень самых популярных приложений в магазине приложений iOS. Этот набор данных содержит данные о 7000 мобильных приложений Apple iOS. Данные были извлечены из iTunes Search API на веб-сайте Apple Inc. Для этого исследования использовались инструменты веб-парсинга R и Linux.\n",
        "\n",
        "Дата сбора данных (из API): Июль 2017 г."
      ]
    },
    {
      "cell_type": "markdown",
      "metadata": {
        "id": "ktGLerg7sWlL"
      },
      "source": [
        "Описание столбцов датасета AppStore.csv:\n",
        "\n",
        "- \"id\": идентификатор приложения\n",
        "\n",
        "- \"track_name\": имя приложения\n",
        "\n",
        "- \"size_bytes\": размер (в байтах)\n",
        "\n",
        "- \"currency\": тип валюты.\n",
        "\n",
        "- \"цена\"\n",
        "\n",
        "- \"rating count tot\": подсчет оценок пользователей (для всех версий)\n",
        "\n",
        "- \"rating count ver\": подсчет оценок пользователей (для текущей версии)\n",
        "\n",
        "- \"user_rating\": среднее значение пользовательского рейтинга (для всех версий).\n",
        "\n",
        "- \"user rating ver\": среднее значение пользовательского рейтинга (для текущей версии).\n",
        "\n",
        "- \"ver\": код последней версии\n",
        "\n",
        "- \"cont_rating\": рейтинг содержания\n",
        "\n",
        "- \"prime_genre\": основной жанр\n",
        "\n",
        "- \"sup_devices.num\": количество поддерживаемых устройств.\n",
        "\n",
        "- \"ipadSc_urls.num\": количество снимков экрана, отображаемых для отображения.\n",
        "\n",
        "- \"lang.num\": количество поддерживаемых языков.\n",
        "\n",
        "- \"vpp_lic\": лицензирование на основе устройства Vpp включено"
      ]
    },
    {
      "cell_type": "markdown",
      "metadata": {
        "id": "mQGt6Mf9sWlM"
      },
      "source": [
        "Перед началом работы с датасетом загрузите файл AppStore.csv через вкладку 'Файлы'"
      ]
    },
    {
      "cell_type": "code",
      "metadata": {
        "id": "dq7ALChJsWlO"
      },
      "source": [
        "import pandas as pd\n",
        "df = pd.read_csv('./AppStore.csv', index_col=0)"
      ],
      "execution_count": null,
      "outputs": []
    },
    {
      "cell_type": "markdown",
      "metadata": {
        "id": "zrEnQJiCsWlR"
      },
      "source": [
        "# Шаг 1. Откройте файл с данными и изучите общую информацию"
      ]
    },
    {
      "cell_type": "markdown",
      "metadata": {
        "id": "6BdjsRjXsWlS"
      },
      "source": [
        "- Определите размер датасета\n",
        "- Выведите названия всех столбцов\n",
        "- Посмотрите тип данных каждого столбца\n",
        "- Выведите основные статистические характеристики датасета по числовым и нечисловым признакам (Прим.: Чтобы посмотреть статистику по нечисловым признакам (например, по строчным (object) или булевым (bool) данным), нужно явно указать интересующие нас типы в параметре include метода describe)"
      ]
    },
    {
      "cell_type": "code",
      "metadata": {
        "id": "6QXnPP3Zs5xV"
      },
      "source": [
        ""
      ],
      "execution_count": null,
      "outputs": []
    },
    {
      "cell_type": "markdown",
      "metadata": {
        "id": "u9KezEpxsWlT"
      },
      "source": [
        "# Шаг 2. Анализ данных"
      ]
    },
    {
      "cell_type": "markdown",
      "metadata": {
        "id": "RnMHIUJfsWlU"
      },
      "source": [
        " \n",
        "- Выведите 100-ую строку датасета\n",
        "- Выведите строки с 0 по 10, столбцы с 0 по 4 включительно\n",
        "- Выведите строки 1, 3, 5 для столбцов ['track_name', 'id']"
      ]
    },
    {
      "cell_type": "code",
      "metadata": {
        "id": "LKmSubrKstbM"
      },
      "source": [
        ""
      ],
      "execution_count": null,
      "outputs": []
    },
    {
      "cell_type": "markdown",
      "metadata": {
        "id": "ebbGqY5PsWlV"
      },
      "source": [
        "- Сколько всего жанров и какие они?  \n",
        "- Сколько суммарно весят все приложения жанра Finance (в байтах)?  \n",
        "- Сколько всего бесплатных приложений, у которых пользовательский рейтинг больше трёх?  \n",
        "- Есть ли приложения, которые стоят больше 50 долларов?"
      ]
    },
    {
      "cell_type": "code",
      "metadata": {
        "id": "qVXBg4Rfst91"
      },
      "source": [
        ""
      ],
      "execution_count": null,
      "outputs": []
    },
    {
      "cell_type": "markdown",
      "metadata": {
        "id": "AM1kkNhUsWlW"
      },
      "source": [
        "- Сколько приложений имеют пользовательский рейтинг >= 3?\n",
        "- Какие типы валют перечислены в датасете (столбец 'currency')?\n",
        "- Сколько приложений принадлежат жанру Games и имеют пользовательский рейтинг >= 5?"
      ]
    },
    {
      "cell_type": "code",
      "metadata": {
        "id": "dk8B4rGhsu-v"
      },
      "source": [
        ""
      ],
      "execution_count": null,
      "outputs": []
    },
    {
      "cell_type": "markdown",
      "metadata": {
        "id": "-2QTFVeisWlX"
      },
      "source": [
        "- Определите сколько приложений в каждом жанре. Постройте гистограмму\n",
        "- Найдите среднюю цену приложений. Выведите список приложений, цена которых выше средней. Отсортируйте приложения по убыванию цены"
      ]
    },
    {
      "cell_type": "code",
      "metadata": {
        "id": "ZWCXqUwesv5g"
      },
      "source": [
        ""
      ],
      "execution_count": null,
      "outputs": []
    },
    {
      "cell_type": "markdown",
      "metadata": {
        "id": "UVcc1vSAsWlY"
      },
      "source": [
        "- Найдите среднюю цену игры для каждого жанра приложений. Постройте гистограмму\n",
        "- Определите топ-5 дорогих жанров приложений и выведите средние цены для этих жанров"
      ]
    },
    {
      "cell_type": "code",
      "metadata": {
        "id": "Q9WsQgs_swbH"
      },
      "source": [
        ""
      ],
      "execution_count": null,
      "outputs": []
    },
    {
      "cell_type": "markdown",
      "metadata": {
        "id": "WRhE07-gsWlZ"
      },
      "source": [
        "# Шаг 3. Опишите полученные результаты"
      ]
    },
    {
      "cell_type": "markdown",
      "metadata": {
        "id": "2VF_gGICsWla"
      },
      "source": [
        "Напишите общий вывод. Заполните программный код в ячейках типа code (код), текстовые пояснения — в ячейках типа markdown (текст). При необходимости используйте форматирование и заголовки. Оставляйте комментарии к шагам"
      ]
    }
  ]
}